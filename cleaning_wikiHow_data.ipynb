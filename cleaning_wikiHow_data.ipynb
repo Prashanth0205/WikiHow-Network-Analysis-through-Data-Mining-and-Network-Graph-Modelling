{
 "cells": [
  {
   "cell_type": "code",
   "execution_count": 1,
   "metadata": {},
   "outputs": [],
   "source": [
    "import pandas as pd"
   ]
  },
  {
   "cell_type": "code",
   "execution_count": 6,
   "metadata": {},
   "outputs": [
    {
     "name": "stdout",
     "output_type": "stream",
     "text": [
      "Original DataFrame:\n",
      "<class 'pandas.core.frame.DataFrame'>\n",
      "RangeIndex: 1080 entries, 0 to 1079\n",
      "Data columns (total 9 columns):\n",
      " #   Column                Non-Null Count  Dtype \n",
      "---  ------                --------------  ----- \n",
      " 0   Main Heading          1080 non-null   object\n",
      " 1   Sub Headings          894 non-null    object\n",
      " 2   Main category         1080 non-null   object\n",
      " 3   Sub-category          987 non-null    object\n",
      " 4   Number of Co-Authors  1080 non-null   object\n",
      " 5   Number of Views       1080 non-null   object\n",
      " 6   Last Updated date     1080 non-null   object\n",
      " 7   Number of Votes       1080 non-null   int64 \n",
      " 8   Rating                2 non-null      object\n",
      "dtypes: int64(1), object(8)\n",
      "memory usage: 76.1+ KB\n",
      "None\n",
      "\n",
      "Cleaned DataFrame:\n",
      "<class 'pandas.core.frame.DataFrame'>\n",
      "Index: 814 entries, 1 to 1079\n",
      "Data columns (total 7 columns):\n",
      " #   Column                Non-Null Count  Dtype \n",
      "---  ------                --------------  ----- \n",
      " 0   Main Heading          814 non-null    object\n",
      " 1   Sub Headings          814 non-null    object\n",
      " 2   Main category         814 non-null    object\n",
      " 3   Sub-category          814 non-null    object\n",
      " 4   Number of Co-Authors  814 non-null    object\n",
      " 5   Number of Views       814 non-null    object\n",
      " 6   Last Updated date     814 non-null    object\n",
      "dtypes: object(7)\n",
      "memory usage: 50.9+ KB\n",
      "None\n",
      "\n",
      "Cleaned DataFrame has been saved to cleaned_wikiHow_data.csv\n"
     ]
    }
   ],
   "source": [
    "csv_filename = 'wikiHow_data.csv'\n",
    "wikihowdf = pd.read_csv(csv_filename)\n",
    "\n",
    "print(\"Original DataFrame:\")\n",
    "print(wikihowdf.info())\n",
    "\n",
    "# Data Cleaning Steps\n",
    "# 1. Code for Handling Missing Values and Remove Duplicates in Specific Columns\n",
    "columns_to_clean = ['Main Heading', 'Sub Headings', 'Main category', 'Sub-category']\n",
    "\n",
    "# Code for Removing rows with blank values in specified columns\n",
    "wikihowdf_cleaned = wikihowdf.dropna(subset=columns_to_clean)\n",
    "\n",
    "# Code for Removing duplicate rows based on specified columns\n",
    "wikihowdf_cleaned = wikihowdf_cleaned.drop_duplicates(subset=columns_to_clean)\n",
    "\n",
    "# COde for Removing Unwanted Columns\n",
    "unwanted_columns = ['Rating', 'Number of Votes']\n",
    "wikihowdf_cleaned = wikihowdf_cleaned.drop(columns=unwanted_columns, errors='ignore')\n",
    "\n",
    "# Code for Displaying information about the cleaned DataFrame\n",
    "print(\"\\nCleaned DataFrame:\")\n",
    "print(wikihowdf_cleaned.info())\n",
    "\n",
    "cleaned_csv_filename = 'cleaned_wikiHow_data.csv'\n",
    "wikihowdf_cleaned.to_csv(cleaned_csv_filename, index=False)\n",
    "print(f'\\nCleaned DataFrame has been saved to {cleaned_csv_filename}')"
   ]
  }
 ],
 "metadata": {
  "kernelspec": {
   "display_name": "Python 3",
   "language": "python",
   "name": "python3"
  },
  "language_info": {
   "codemirror_mode": {
    "name": "ipython",
    "version": 3
   },
   "file_extension": ".py",
   "mimetype": "text/x-python",
   "name": "python",
   "nbconvert_exporter": "python",
   "pygments_lexer": "ipython3",
   "version": "3.12.1"
  }
 },
 "nbformat": 4,
 "nbformat_minor": 2
}
